{
 "cells": [
  {
   "cell_type": "markdown",
   "metadata": {},
   "source": [
    "# Yandex.Afisha - marketing expenses"
   ]
  },
  {
   "cell_type": "markdown",
   "metadata": {},
   "source": [
    "Project Description-  \n",
    "    \n",
    "In this Yandex.Afisha. project I will use various analysis to help optimize marketing expenses. \n",
    "\n",
    "I will be using three data tables:\n",
    "1. Server logs with data on Yandex.Afisha visits from June 2017 through May 2018\n",
    "2. Dump file with all orders for the period\n",
    "3. Marketing expenses statistics\n",
    "\n",
    "To study: \n",
    "- How people use the product\n",
    "- When they start to buy\n",
    "- How much money each customer brings\n",
    "- When they pay off\n",
    "\n",
    "Using metrics like DAU, WAU, MAU, LTV, CAC, ROI, and more.\n"
   ]
  },
  {
   "cell_type": "code",
   "execution_count": null,
   "metadata": {},
   "outputs": [],
   "source": [
    "!pip install sidetable"
   ]
  },
  {
   "cell_type": "code",
   "execution_count": null,
   "metadata": {},
   "outputs": [],
   "source": [
    "import pandas as pd\n",
    "import sidetable as stb\n",
    "import plotly.express as px\n",
    "import numpy as np\n",
    "import seaborn as sns\n",
    "import matplotlib.pyplot as plt"
   ]
  },
  {
   "cell_type": "markdown",
   "metadata": {},
   "source": [
    "## . Download the data and prepare it for analysis  \n",
    "**Store the data on visits, orders, and expenses in variables. Optimize the data for analysis. Make sure each column contains the correct data type.**"
   ]
  },
  {
   "cell_type": "code",
   "execution_count": null,
   "metadata": {},
   "outputs": [],
   "source": [
    "# downloading and getting to know first table\n",
    "visits = pd.read_csv('/datasets/visits_log_us.csv')\n",
    "visits.head()"
   ]
  },
  {
   "cell_type": "code",
   "execution_count": null,
   "metadata": {},
   "outputs": [],
   "source": [
    "# renaming columns\n",
    "visits.columns = visits.columns.str.lower().str.replace(' ', '_')\n",
    "visits.head()"
   ]
  },
  {
   "cell_type": "code",
   "execution_count": null,
   "metadata": {},
   "outputs": [],
   "source": [
    "visits.info(memory_usage='deep')"
   ]
  },
  {
   "cell_type": "markdown",
   "metadata": {},
   "source": [
    "**Optimizing data by getting rid of the object types**"
   ]
  },
  {
   "cell_type": "code",
   "execution_count": null,
   "metadata": {},
   "outputs": [],
   "source": [
    "visits['device'].value_counts()"
   ]
  },
  {
   "cell_type": "code",
   "execution_count": null,
   "metadata": {},
   "outputs": [],
   "source": [
    "visits['device'] = visits['device'].astype('category')\n",
    "visits['start_ts'] =  pd.to_datetime(visits['start_ts'], format=\"%Y-%m-%d %H:%M:%S\")\n",
    "visits['end_ts'] =  pd.to_datetime(visits['end_ts'], format=\"%Y-%m-%d %H:%M:%S\")\n",
    "visits.info(memory_usage='deep')"
   ]
  },
  {
   "cell_type": "markdown",
   "metadata": {},
   "source": [
    "memory usage was reduced from 80 MB to 11 MB for visits table"
   ]
  },
  {
   "cell_type": "code",
   "execution_count": null,
   "metadata": {},
   "outputs": [],
   "source": [
    "# downloading and getting to know second table\n",
    "orders = pd.read_csv('/datasets/orders_log_us.csv')\n",
    "orders.head()"
   ]
  },
  {
   "cell_type": "code",
   "execution_count": null,
   "metadata": {},
   "outputs": [],
   "source": [
    "# renaming columns\n",
    "orders.columns = orders.columns.str.lower().str.replace(' ', '_')\n",
    "orders.head()"
   ]
  },
  {
   "cell_type": "code",
   "execution_count": null,
   "metadata": {},
   "outputs": [],
   "source": [
    "orders.info(memory_usage='deep')"
   ]
  },
  {
   "cell_type": "code",
   "execution_count": null,
   "metadata": {},
   "outputs": [],
   "source": [
    "orders['buy_ts'] = pd.to_datetime(orders['buy_ts'], format=\"%Y-%m-%d %H:%M:%S\")\n",
    "orders.info(memory_usage='deep')"
   ]
  },
  {
   "cell_type": "markdown",
   "metadata": {},
   "source": [
    "memory usage was reduced from 4 MB to 1 MB for orders table"
   ]
  },
  {
   "cell_type": "code",
   "execution_count": null,
   "metadata": {},
   "outputs": [],
   "source": [
    "# downloading and getting to know third table\n",
    "expenses = pd.read_csv('/datasets/costs_us.csv')\n",
    "expenses.head()"
   ]
  },
  {
   "cell_type": "code",
   "execution_count": null,
   "metadata": {},
   "outputs": [],
   "source": [
    "expenses.info(memory_usage='deep')"
   ]
  },
  {
   "cell_type": "code",
   "execution_count": null,
   "metadata": {},
   "outputs": [],
   "source": [
    "expenses['dt'] = pd.to_datetime(expenses['dt'], format='%Y-%m-%d')\n",
    "expenses.info(memory_usage='deep')"
   ]
  },
  {
   "cell_type": "markdown",
   "metadata": {},
   "source": [
    "memory usage was reduced from 206 KB to 60 KB for expenses table"
   ]
  },
  {
   "cell_type": "markdown",
   "metadata": {},
   "source": [
    "**Checking for missing data in 3 tables**"
   ]
  },
  {
   "cell_type": "code",
   "execution_count": null,
   "metadata": {},
   "outputs": [],
   "source": [
    "visits.stb.missing(style=True)"
   ]
  },
  {
   "cell_type": "code",
   "execution_count": null,
   "metadata": {},
   "outputs": [],
   "source": [
    "orders.stb.missing(style=True)"
   ]
  },
  {
   "cell_type": "code",
   "execution_count": null,
   "metadata": {},
   "outputs": [],
   "source": [
    "expenses.stb.missing(style=True)"
   ]
  },
  {
   "cell_type": "markdown",
   "metadata": {},
   "source": [
    "No missing data was found"
   ]
  },
  {
   "cell_type": "markdown",
   "metadata": {},
   "source": [
    "**Checking for duplicated data in 3 tables**"
   ]
  },
  {
   "cell_type": "code",
   "execution_count": null,
   "metadata": {},
   "outputs": [],
   "source": [
    "visits.duplicated().sum()"
   ]
  },
  {
   "cell_type": "code",
   "execution_count": null,
   "metadata": {},
   "outputs": [],
   "source": [
    "orders.duplicated().sum()"
   ]
  },
  {
   "cell_type": "code",
   "execution_count": null,
   "metadata": {},
   "outputs": [],
   "source": [
    "expenses.duplicated().sum()"
   ]
  },
  {
   "cell_type": "markdown",
   "metadata": {},
   "source": [
    "No duplicated data was found"
   ]
  },
  {
   "cell_type": "markdown",
   "metadata": {},
   "source": [
    "There were no duplicated or missing data in any of the tables.  \n",
    "    \n",
    "Data types were optimized in each table.  \n",
    "    \n",
    "Column names were  changed according to naming rules  \n",
    "    \n",
    "The data is clean and ready for analysis.  "
   ]
  },
  {
   "cell_type": "markdown",
   "metadata": {},
   "source": [
    "## . Make reports and calculate metrics:  "
   ]
  },
  {
   "cell_type": "markdown",
   "metadata": {},
   "source": [
    "**1. product**"
   ]
  },
  {
   "cell_type": "markdown",
   "metadata": {},
   "source": [
    "**How many people use the product (visit) every day, week, and month?**"
   ]
  },
  {
   "cell_type": "code",
   "execution_count": null,
   "metadata": {},
   "outputs": [],
   "source": [
    "# extracting date, week and month from start_ts\n",
    "visits['week']  = visits['start_ts'].astype('datetime64[W]')\n",
    "visits['month']  = visits['start_ts'].astype('datetime64[M]')\n",
    "visits['date'] = visits['start_ts'].astype('datetime64[D]')\n",
    "visits.head()"
   ]
  },
  {
   "cell_type": "markdown",
   "metadata": {},
   "source": [
    "Calculating and presenting DAU, WAU, and MAU."
   ]
  },
  {
   "cell_type": "code",
   "execution_count": null,
   "metadata": {},
   "outputs": [],
   "source": [
    "dau = visits.groupby(visits['date'])['uid'].nunique().reset_index().rename(columns={'uid':'n_users'})\n",
    "dau.head()"
   ]
  },
  {
   "cell_type": "code",
   "execution_count": null,
   "metadata": {},
   "outputs": [],
   "source": [
    "wau = visits.groupby(visits['week'])['uid'].nunique().reset_index().rename(columns={'uid':'n_users'})\n",
    "wau.head()"
   ]
  },
  {
   "cell_type": "code",
   "execution_count": null,
   "metadata": {},
   "outputs": [],
   "source": [
    "mau = visits.groupby(visits['month'])['uid'].nunique().reset_index().rename(columns={'uid':'n_users'})\n",
    "mau.head()"
   ]
  },
  {
   "cell_type": "markdown",
   "metadata": {},
   "source": [
    "Plotting  DAU, WAU, and MAU."
   ]
  },
  {
   "cell_type": "code",
   "execution_count": null,
   "metadata": {},
   "outputs": [],
   "source": [
    "fig = px.line(dau,x=\"date\", y=\"n_users\",title='DAU', labels={'n_users':'unique users'})\n",
    "#adding reference line with average DAU over time\n",
    "fig.add_hline(y=dau['n_users'].mean(),line_dash=\"dash\", line_color=\"purple\", annotation_text=\"average DAU\",\n",
    "             annotation_position=\"top left\")\n",
    "fig.show()"
   ]
  },
  {
   "cell_type": "markdown",
   "metadata": {},
   "source": [
    "DAU - Graph description:  \n",
    "The average daily active users is around 900.  \n",
    "From June we see an increase in active users with a pick at the end of November.  \n",
    "After that, the number of DAU ranges between 900-1500, and by the end of March we that the DAU is around and below average.  \n",
    "(excluding a pick at the end of the data)"
   ]
  },
  {
   "cell_type": "code",
   "execution_count": null,
   "metadata": {},
   "outputs": [],
   "source": [
    "fig = px.line(wau,x=\"week\", y=\"n_users\",title='WAU', labels={'n_users':'unique users'})\n",
    "#adding reference line with average DAU over time\n",
    "fig.add_hline(y=wau['n_users'].mean(),line_dash=\"dash\", line_color=\"purple\", annotation_text=\"average WAU\",\n",
    "             annotation_position=\"top left\")\n",
    "fig.show()"
   ]
  },
  {
   "cell_type": "markdown",
   "metadata": {},
   "source": [
    "WAU - Graph description:  \n",
    "The average weekly active users is around 5700.  \n",
    "From June we see an increase in active users with a pick at the end of November.  \n",
    "After that, the number of WAU ranges between average and up to 8500, and by the end of March we that the DAU is around and below average.  \n",
    "The trend is similar to the DAU trend."
   ]
  },
  {
   "cell_type": "code",
   "execution_count": null,
   "metadata": {
    "scrolled": true
   },
   "outputs": [],
   "source": [
    "fig = px.line(mau,x=\"month\", y=\"n_users\",title='MAU', labels={'n_users':'unique users'})\n",
    "#adding reference line with average DAU over time\n",
    "fig.add_hline(y=mau['n_users'].mean(),line_dash=\"dash\", line_color=\"purple\", annotation_text=\"average MAU\",\n",
    "             annotation_position=\"top left\")\n",
    "fig.show()"
   ]
  },
  {
   "cell_type": "markdown",
   "metadata": {},
   "source": [
    "MAU - Graph description:  \n",
    "The average monthly active users is around 23K.  \n",
    "From June we see an increase in active users with a pick at November.  \n",
    "After that, the number of MAU decreases, and reaches average between March and April."
   ]
  },
  {
   "cell_type": "code",
   "execution_count": null,
   "metadata": {},
   "outputs": [],
   "source": [
    "# Calculating mean DAU\n",
    "print(f'the mean DAU is {dau.n_users.mean():.1f}')"
   ]
  },
  {
   "cell_type": "code",
   "execution_count": null,
   "metadata": {},
   "outputs": [],
   "source": [
    "# Calculating mean WAU\n",
    "print(f'the mean WAU is {wau.n_users.mean():.1f}')"
   ]
  },
  {
   "cell_type": "code",
   "execution_count": null,
   "metadata": {
    "scrolled": true
   },
   "outputs": [],
   "source": [
    "# Calculating mean DAU\n",
    "print(f'the mean MAU is {mau.n_users.mean():.1f}')"
   ]
  },
  {
   "cell_type": "markdown",
   "metadata": {},
   "source": [
    "**How many sessions are there per day?**"
   ]
  },
  {
   "cell_type": "code",
   "execution_count": null,
   "metadata": {},
   "outputs": [],
   "source": [
    "daily_sess = visits.groupby(visits['date'])['uid'].count().reset_index().rename(columns={'uid':'n_ssesions'})\n",
    "daily_sess.head()"
   ]
  },
  {
   "cell_type": "code",
   "execution_count": null,
   "metadata": {},
   "outputs": [],
   "source": [
    "fig = px.line(daily_sess,x=\"date\", y=\"n_ssesions\",title='Daily Sessions', labels={'n_ssesions':'unique ssesions'})\n",
    "#adding reference line with average DAU over time\n",
    "fig.add_hline(y=daily_sess['n_ssesions'].mean(),line_dash=\"dash\", line_color=\"purple\", annotation_text=\"average ssesions\",\n",
    "             annotation_position=\"top left\")\n",
    "fig.show()"
   ]
  },
  {
   "cell_type": "code",
   "execution_count": null,
   "metadata": {},
   "outputs": [],
   "source": [
    "daily_sess = daily_sess.merge(dau, on='date')\n",
    "daily_sess.head()"
   ]
  },
  {
   "cell_type": "code",
   "execution_count": null,
   "metadata": {},
   "outputs": [],
   "source": [
    "daily_sess['sess_per_user'] = daily_sess['n_ssesions'] / daily_sess['n_users']\n",
    "daily_sess.head()"
   ]
  },
  {
   "cell_type": "code",
   "execution_count": null,
   "metadata": {},
   "outputs": [],
   "source": [
    "fig = px.line(daily_sess,x=\"date\", y=\"sess_per_user\",title='Daily Sessions per User', labels={'sess_per_user':'ssesions per user'})\n",
    "#adding reference line with average DAU over time\n",
    "fig.add_hline(y=daily_sess['sess_per_user'].mean(),line_dash=\"dash\", line_color=\"purple\", annotation_text=\"average ssesions\",\n",
    "             annotation_position=\"top left\")\n",
    "fig.show()"
   ]
  },
  {
   "cell_type": "markdown",
   "metadata": {},
   "source": [
    "Daily ssesions per user- Graph description:  \n",
    "The mean daily ssesions per user is 1.1.  \n",
    "There is no major change in the number of ssesion per user and this metric varies between 1-1.2."
   ]
  },
  {
   "cell_type": "markdown",
   "metadata": {},
   "source": [
    "**What is the length of each session?**"
   ]
  },
  {
   "cell_type": "code",
   "execution_count": null,
   "metadata": {},
   "outputs": [],
   "source": [
    "# Calculating duration for each ssesion (in seconds)\n",
    "visits['duration'] = (visits['end_ts'] - visits['start_ts']).astype('timedelta64[s]')\n",
    "visits.head()"
   ]
  },
  {
   "cell_type": "code",
   "execution_count": null,
   "metadata": {},
   "outputs": [],
   "source": [
    "# Calculating mean duration for all data\n",
    "print(f'the mean duration is {visits.duration.mean():.2f}')"
   ]
  },
  {
   "cell_type": "code",
   "execution_count": null,
   "metadata": {},
   "outputs": [],
   "source": [
    "# Calculating median duration for all data\n",
    "print(f'the median duration is {visits.duration.median():.2f}')"
   ]
  },
  {
   "cell_type": "code",
   "execution_count": null,
   "metadata": {},
   "outputs": [],
   "source": [
    "visits.duration.min()"
   ]
  },
  {
   "cell_type": "code",
   "execution_count": null,
   "metadata": {},
   "outputs": [],
   "source": [
    "visits.sort_values(by='duration').head()"
   ]
  },
  {
   "cell_type": "markdown",
   "metadata": {},
   "source": [
    "2 rows have negative values for duration.  \n",
    "Probably start_ts or end_ts were logged incorrectly."
   ]
  },
  {
   "cell_type": "code",
   "execution_count": null,
   "metadata": {},
   "outputs": [],
   "source": [
    "# Calculating mean duration by device\n",
    "visits.groupby(visits['device'])['duration'].mean()"
   ]
  },
  {
   "cell_type": "code",
   "execution_count": null,
   "metadata": {},
   "outputs": [],
   "source": [
    "# Calculating median duration by device\n",
    "visits.groupby(visits['device'])['duration'].median()"
   ]
  },
  {
   "cell_type": "markdown",
   "metadata": {},
   "source": [
    "Looks like the mean and median depend on the device type."
   ]
  },
  {
   "cell_type": "code",
   "execution_count": null,
   "metadata": {},
   "outputs": [],
   "source": [
    "# Plotting daily sessions duration\n",
    "fig=px.histogram(y=visits['duration'],x=visits['date'], title='Total daily sessions duration', labels={'y':'duration','x':'date'})\n",
    "fig.show()"
   ]
  },
  {
   "cell_type": "markdown",
   "metadata": {},
   "source": [
    "I will not use this graph. Instead I will make a graph with average duration."
   ]
  },
  {
   "cell_type": "code",
   "execution_count": null,
   "metadata": {
    "scrolled": true
   },
   "outputs": [],
   "source": [
    "# Plotting daily sessions duration, using avg instead of sum\n",
    "fig=px.histogram(y=visits['duration'],x=visits['date'], histfunc='avg', title='Average daily sessions duration', labels={'y':'duration','x':'date'})\n",
    "fig.add_hline(y=visits['duration'].median(),line_dash=\"dash\", line_color=\"purple\", annotation_text=\"average duration\",\n",
    "             annotation_position=\"top left\")\n",
    "fig.show()"
   ]
  },
  {
   "cell_type": "markdown",
   "metadata": {},
   "source": [
    "According to the first histogram, and the difference between the mean and median values I concluded that the distribution is not normal and decided to use median for the histogram Instead of mean.\n",
    "I am not sure that I understand the comment."
   ]
  },
  {
   "cell_type": "code",
   "execution_count": null,
   "metadata": {},
   "outputs": [],
   "source": [
    "visits.duration.hist()"
   ]
  },
  {
   "cell_type": "markdown",
   "metadata": {},
   "source": [
    "**What's the user retention rate?**"
   ]
  },
  {
   "cell_type": "code",
   "execution_count": null,
   "metadata": {},
   "outputs": [],
   "source": [
    "# finding the first session for each user\n",
    "first_visit = visits.groupby(['uid'])['date'].min().reset_index()\n",
    "first_visit.columns = ['uid', 'first_session']\n",
    "first_visit.head()"
   ]
  },
  {
   "cell_type": "code",
   "execution_count": null,
   "metadata": {},
   "outputs": [],
   "source": [
    "# merging with the original dataset\n",
    "visits = visits.merge(first_visit, how='inner',on=['uid'])\n",
    "visits.head()"
   ]
  },
  {
   "cell_type": "code",
   "execution_count": null,
   "metadata": {},
   "outputs": [],
   "source": [
    "# Creating cohorts by month\n",
    "visits['cohort'] = visits['first_session'].astype('datetime64[M]')\n",
    "visits.head()"
   ]
  },
  {
   "cell_type": "code",
   "execution_count": null,
   "metadata": {},
   "outputs": [],
   "source": [
    "# Calculating age\n",
    "visits['age'] = ((visits['date'] - visits['first_session']) / np.timedelta64(1,'M')).round().astype('int')\n",
    "visits.head()"
   ]
  },
  {
   "cell_type": "code",
   "execution_count": null,
   "metadata": {},
   "outputs": [],
   "source": [
    "# Active users by cohort and age\n",
    "cohorts = visits.pivot_table(index='cohort',\n",
    "                  columns='age',\n",
    "                  values='uid',\n",
    "                  aggfunc='nunique').fillna(0)\n",
    "cohorts"
   ]
  },
  {
   "cell_type": "code",
   "execution_count": null,
   "metadata": {},
   "outputs": [],
   "source": [
    "# Retention rate table\n",
    "retention=cohorts.div(cohorts[0], axis=0)\n",
    "retention"
   ]
  },
  {
   "cell_type": "code",
   "execution_count": null,
   "metadata": {},
   "outputs": [],
   "source": [
    "# Plotting retention rate\n",
    "fig, ax = plt.subplots(figsize=(10,10)) \n",
    "retention.index=retention.index.astype(str)\n",
    "sns.heatmap(retention, annot=True, fmt='.1%', linewidths=1, linecolor='grey',  vmax=0.1, cbar_kws= {'orientation': 'horizontal'} \n",
    "            ).set(title = 'Retention Rate')\n",
    "plt.show()"
   ]
  },
  {
   "cell_type": "markdown",
   "metadata": {},
   "source": [
    "In conclusion, the retention rate observed in our cohort analysis reveals a critical trend: a gradual decline in retention over time. With a maximum retention rate of 7.6% after one month, our analysis underscores the challenge of sustaining engagement and loyalty among our user base. \n",
    "In addition, it is noteworthy that some of the cohorts exhibited retention rates dropping below 1% within just a few months.\n"
   ]
  },
  {
   "cell_type": "markdown",
   "metadata": {},
   "source": [
    "**2. Sales**"
   ]
  },
  {
   "cell_type": "markdown",
   "metadata": {},
   "source": [
    "**When do people start buying?**"
   ]
  },
  {
   "cell_type": "code",
   "execution_count": null,
   "metadata": {},
   "outputs": [],
   "source": [
    "# Checking nature of product (is it a one-time purchase?)\n",
    "orders.uid.duplicated().sum()"
   ]
  },
  {
   "cell_type": "markdown",
   "metadata": {},
   "source": [
    "There are multiple purchases per user, need to find the first order."
   ]
  },
  {
   "cell_type": "code",
   "execution_count": null,
   "metadata": {},
   "outputs": [],
   "source": [
    "# Finding first order for user\n",
    "first_buy = orders.groupby(['uid'])['buy_ts'].min().reset_index()\n",
    "first_buy.columns = ['uid', 'first_purchase']\n",
    "first_buy.head()"
   ]
  },
  {
   "cell_type": "code",
   "execution_count": null,
   "metadata": {},
   "outputs": [],
   "source": [
    "# Extracting first order date from date and time\n",
    "first_buy['first_purchase_date'] = first_buy['first_purchase'].astype('datetime64[D]')\n",
    "first_buy.head()"
   ]
  },
  {
   "cell_type": "code",
   "execution_count": null,
   "metadata": {},
   "outputs": [],
   "source": [
    "# Adding first session column to data\n",
    "first_buy = first_buy.merge(first_visit, how='inner',on=['uid'])\n",
    "first_buy.head()"
   ]
  },
  {
   "cell_type": "code",
   "execution_count": null,
   "metadata": {},
   "outputs": [],
   "source": [
    "# calculating conversion in days\n",
    "first_buy['conversion'] = (first_buy['first_purchase_date'] - first_buy['first_session'] ).astype('timedelta64[D]').astype('int')\n",
    "first_buy.head()"
   ]
  },
  {
   "cell_type": "code",
   "execution_count": null,
   "metadata": {},
   "outputs": [],
   "source": [
    "# plotting conversion\n",
    "fig = px.histogram(first_buy, x='conversion', nbins=30)\n",
    "fig.show()"
   ]
  },
  {
   "cell_type": "code",
   "execution_count": null,
   "metadata": {},
   "outputs": [],
   "source": [
    "first_buy['conversion'].describe()"
   ]
  },
  {
   "cell_type": "code",
   "execution_count": null,
   "metadata": {},
   "outputs": [],
   "source": [
    "first_buy['conversion'].value_counts(normalize=True)"
   ]
  },
  {
   "cell_type": "markdown",
   "metadata": {},
   "source": [
    "Over 68% of the users made their first purchase the same day that they first use the product."
   ]
  },
  {
   "cell_type": "code",
   "execution_count": null,
   "metadata": {},
   "outputs": [],
   "source": [
    "print('The overall conversion is {:.0%}'.format(orders['uid'].nunique() / visits['uid'].nunique()))"
   ]
  },
  {
   "cell_type": "code",
   "execution_count": null,
   "metadata": {},
   "outputs": [],
   "source": [
    "# adding cohort information to the data\n",
    "cohort_conversion = first_buy.merge(visits, how='left', on='uid')\n",
    "cohort_conversion.head()"
   ]
  },
  {
   "cell_type": "code",
   "execution_count": null,
   "metadata": {},
   "outputs": [],
   "source": [
    "# Checking days to conversion vy cohort\n",
    "conversion_by_cohort = cohort_conversion.groupby(['cohort'])['conversion'].median().reset_index().rename(columns={'conversion':'days to conversion'})\n",
    "conversion_by_cohort"
   ]
  },
  {
   "cell_type": "markdown",
   "metadata": {},
   "source": [
    "The first 2 cohorts took on average over 20 days to convert.  \n",
    "Most cohort on average convert on the same dau of registration."
   ]
  },
  {
   "cell_type": "markdown",
   "metadata": {},
   "source": [
    "Fast conversion signifies the efficiency and effectiveness of the sales process in persuading individuals to buy tickets. However, while fast conversion can offer benefits such as increased revenue and efficiency, it's essential to balance speed with quality, personalized service, and long-term relationship building."
   ]
  },
  {
   "cell_type": "markdown",
   "metadata": {},
   "source": [
    "**How many orders do they make during a given period of time?**"
   ]
  },
  {
   "cell_type": "code",
   "execution_count": null,
   "metadata": {},
   "outputs": [],
   "source": [
    "# adding firat buy info to orders data\n",
    "orders = orders.merge(first_buy, on='uid', how='left')"
   ]
  },
  {
   "cell_type": "code",
   "execution_count": null,
   "metadata": {},
   "outputs": [],
   "source": [
    "# Dropping unnecessary columns\n",
    "orders = orders.drop(columns=['first_purchase', 'first_session', 'conversion'])"
   ]
  },
  {
   "cell_type": "code",
   "execution_count": null,
   "metadata": {},
   "outputs": [],
   "source": [
    "# creating column first_order_month\n",
    "orders['first_order_month'] = orders['first_purchase_date'].astype('datetime64[M]')"
   ]
  },
  {
   "cell_type": "code",
   "execution_count": null,
   "metadata": {},
   "outputs": [],
   "source": [
    "# creating column order_month\n",
    "orders['order_month'] = orders['buy_ts'].astype('datetime64[M]')"
   ]
  },
  {
   "cell_type": "code",
   "execution_count": null,
   "metadata": {},
   "outputs": [],
   "source": [
    "# Calculating cohort age using only orders\n",
    "orders['age_buy'] = ((orders['order_month'] - orders['first_order_month']) / np.timedelta64(1,'M')).round().astype('int')"
   ]
  },
  {
   "cell_type": "code",
   "execution_count": null,
   "metadata": {},
   "outputs": [],
   "source": [
    "orders.head()"
   ]
  },
  {
   "cell_type": "code",
   "execution_count": null,
   "metadata": {},
   "outputs": [],
   "source": [
    "# creating pivot table for number of buys\n",
    "orders_cohorts = orders.pivot_table(index='first_order_month',\n",
    "                  columns='age_buy',\n",
    "                  values='uid',\n",
    "                  aggfunc='nunique').fillna(0)\n",
    "orders_cohorts"
   ]
  },
  {
   "cell_type": "code",
   "execution_count": null,
   "metadata": {},
   "outputs": [],
   "source": [
    "# creating pivot table for rate of buys\n",
    "buy_rate = orders_cohorts.div(orders_cohorts[0], axis=0)\n",
    "buy_rate"
   ]
  },
  {
   "cell_type": "code",
   "execution_count": null,
   "metadata": {},
   "outputs": [],
   "source": [
    "# Plotting buy rate\n",
    "fig, ax = plt.subplots(figsize=(10,10)) \n",
    "buy_rate.index=buy_rate.index.astype(str)\n",
    "sns.heatmap(buy_rate, annot=True, fmt='.1%', linewidths=1, linecolor='grey',  vmax=0.1, cbar_kws= {'orientation': 'horizontal'} \n",
    "            ).set(title = 'Buy Rate')\n",
    "plt.show()"
   ]
  },
  {
   "cell_type": "markdown",
   "metadata": {},
   "source": [
    "After the first month of purchase, the buy rate drastically drops.  \n",
    "In the following months you can see minimal changes, so the buying rate ranges from 1-4%."
   ]
  },
  {
   "cell_type": "code",
   "execution_count": null,
   "metadata": {},
   "outputs": [],
   "source": [
    "# Getting cohorts size\n",
    "cohort_sizes = orders.groupby(orders['first_order_month'])['uid'].nunique().reset_index().rename(columns={'uid':'cohort_size'})\n",
    "cohort_sizes"
   ]
  },
  {
   "cell_type": "code",
   "execution_count": null,
   "metadata": {},
   "outputs": [],
   "source": [
    "#calculating number of purchases for cohort and month\n",
    "cohort=orders.groupby(['first_order_month','order_month'])['revenue'].count().reset_index()\n",
    "cohort.columns=['first_order_month','month','orders']\n",
    "cohort"
   ]
  },
  {
   "cell_type": "code",
   "execution_count": null,
   "metadata": {},
   "outputs": [],
   "source": [
    "#merge cohort with cohort size\n",
    "cohort = cohort.merge(cohort_sizes, on='first_order_month')\n",
    "cohort"
   ]
  },
  {
   "cell_type": "code",
   "execution_count": null,
   "metadata": {},
   "outputs": [],
   "source": [
    "# Calculating orders per buyer\n",
    "cohort['orders_per_buyer'] = cohort['orders'] / cohort['cohort_size']\n",
    "cohort"
   ]
  },
  {
   "cell_type": "code",
   "execution_count": null,
   "metadata": {},
   "outputs": [],
   "source": [
    "# Calculating cohort age\n",
    "cohort['age'] = ((cohort['month'] - cohort['first_order_month']) / np.timedelta64(1,'M')).round().astype('int')\n",
    "cohort"
   ]
  },
  {
   "cell_type": "code",
   "execution_count": null,
   "metadata": {},
   "outputs": [],
   "source": [
    "# cohort analysis- purchases per buyer\n",
    "cohort_piv = cohort.pivot_table(index='first_order_month',\n",
    "                               columns='age',\n",
    "                               values='orders_per_buyer',\n",
    "                               aggfunc='sum').round(2).fillna(0)\n",
    "cohort_piv"
   ]
  },
  {
   "cell_type": "code",
   "execution_count": null,
   "metadata": {},
   "outputs": [],
   "source": [
    "# Plotting purchases per buyer\n",
    "fig, ax = plt.subplots(figsize=(10,10)) \n",
    "cohort_piv.index=cohort_piv.index.astype(str)\n",
    "sns.heatmap(cohort_piv, annot=True, fmt='.3', linewidths=1, linecolor='grey',  vmax=0.1, cbar_kws= {'orientation': 'horizontal'} \n",
    "            ).set(title = 'Purchases per Buyer')\n",
    "plt.show()"
   ]
  },
  {
   "cell_type": "markdown",
   "metadata": {},
   "source": [
    "The first month of buying has the highest value of purchases per buyer (>1).  \n",
    "After the first month the number of purchases per buyer constantly drops, and is lesser then 1 buy per buyer."
   ]
  },
  {
   "cell_type": "code",
   "execution_count": null,
   "metadata": {},
   "outputs": [],
   "source": [
    "# cohort analysis- cumulative purchases per buyer\n",
    "cohort_piv_cum = cohort.pivot_table(index='first_order_month',\n",
    "                               columns='age',\n",
    "                               values='orders_per_buyer',\n",
    "                               aggfunc='sum').round(2).fillna(0).cumsum(axis=1)\n",
    "cohort_piv_cum"
   ]
  },
  {
   "cell_type": "code",
   "execution_count": null,
   "metadata": {},
   "outputs": [],
   "source": [
    "# Plotting cumulative purchases per buyer \n",
    "fig, ax = plt.subplots(figsize=(10,10)) \n",
    "cohort_piv_cum.index=cohort_piv_cum.index.astype(str)\n",
    "sns.heatmap(cohort_piv_cum, annot=True, fmt='.3', linewidths=1, linecolor='grey',  vmax=0.1, cbar_kws= {'orientation': 'horizontal'} \n",
    "            ).set(title = 'Cumulative Purchases per Buyer')\n",
    "plt.show()"
   ]
  },
  {
   "cell_type": "markdown",
   "metadata": {},
   "source": [
    "When comparing cumulative number of purchases per buyers between cohorts, we can see that the first cohort (of june 2017) is the best one in terms of purchases per buyer."
   ]
  },
  {
   "cell_type": "markdown",
   "metadata": {},
   "source": [
    "**What is the average purchase size?**"
   ]
  },
  {
   "cell_type": "code",
   "execution_count": null,
   "metadata": {},
   "outputs": [],
   "source": [
    "# creating small table (avg revenue by first order month and order month) and calculating age\n",
    "avg_cohort = orders.groupby(['first_order_month','order_month'])['revenue'].mean().reset_index()\n",
    "avg_cohort['age'] = ((avg_cohort['order_month'] - avg_cohort['first_order_month']) / np.timedelta64(1,'M')).round().astype('int')\n",
    "avg_cohort"
   ]
  },
  {
   "cell_type": "code",
   "execution_count": null,
   "metadata": {},
   "outputs": [],
   "source": [
    "# creatong pivot table for avg revenue\n",
    "avg_cohort_piv = avg_cohort.pivot_table(index='first_order_month',\n",
    "                                        columns='age',\n",
    "                                        values='revenue',\n",
    "                                        aggfunc='mean').round(2).fillna('')\n",
    "avg_cohort_piv"
   ]
  },
  {
   "cell_type": "markdown",
   "metadata": {},
   "source": [
    "For most cohorts, the average revanue growes as the months go by."
   ]
  },
  {
   "cell_type": "code",
   "execution_count": null,
   "metadata": {},
   "outputs": [],
   "source": [
    "# Getting revenue statistics for each cohort\n",
    "orders.groupby(['first_order_month'])['revenue'].describe()"
   ]
  },
  {
   "cell_type": "markdown",
   "metadata": {},
   "source": [
    "We can see that for all cohorts the mean revenue is higher than the median.  \n",
    "There are some big purchases that influance the mean- particularly in the cohorts of September and December 17."
   ]
  },
  {
   "cell_type": "code",
   "execution_count": null,
   "metadata": {},
   "outputs": [],
   "source": [
    "avg_rev = orders.groupby('order_month')['revenue'].mean().reset_index()\n",
    "fig = px.line(avg_rev, y='revenue', x='order_month', labels={'revenue':'Avg revenue','order_month':'Month'}, title='Average Revenue per Month')\n",
    "fig.add_hline(y=avg_rev['revenue'].mean(),line_dash=\"dash\", line_color=\"purple\", annotation_text=\"average revenue\",\n",
    "             annotation_position=\"top left\")\n",
    "fig.show()"
   ]
  },
  {
   "cell_type": "code",
   "execution_count": null,
   "metadata": {},
   "outputs": [],
   "source": [
    "avg_rev.revenue.describe()"
   ]
  },
  {
   "cell_type": "markdown",
   "metadata": {},
   "source": [
    "Average revenue is 4.8.  \n",
    "The most profitable month is December and the least profitable are January and June."
   ]
  },
  {
   "cell_type": "markdown",
   "metadata": {},
   "source": [
    "**How much money do they bring? (LTV)**"
   ]
  },
  {
   "cell_type": "code",
   "execution_count": null,
   "metadata": {},
   "outputs": [],
   "source": [
    "# creating small table (total revenue by first order month and order month)\n",
    "ltv_cohort = orders.groupby(['first_order_month','order_month'])['revenue'].sum().reset_index()\n",
    "ltv_cohort"
   ]
  },
  {
   "cell_type": "code",
   "execution_count": null,
   "metadata": {},
   "outputs": [],
   "source": [
    "# merge with the cohort size and calculate age\n",
    "ltv_cohort = ltv_cohort.merge(cohort_sizes, on='first_order_month')\n",
    "ltv_cohort['age'] = ((ltv_cohort['order_month'] - ltv_cohort['first_order_month']) / np.timedelta64(1,'M')).round().astype('int')\n",
    "ltv_cohort"
   ]
  },
  {
   "cell_type": "code",
   "execution_count": null,
   "metadata": {},
   "outputs": [],
   "source": [
    "ltv_cohort['ltv'] = ltv_cohort['revenue'] / ltv_cohort['cohort_size']\n",
    "ltv_cohort"
   ]
  },
  {
   "cell_type": "code",
   "execution_count": null,
   "metadata": {},
   "outputs": [],
   "source": [
    "# Creatong pivot table of cumulative revenue per cohort\n",
    "ltv_cohort_piv = ltv_cohort.pivot_table(index='first_order_month',\n",
    "                                        columns='age',\n",
    "                                        values='ltv',\n",
    "                                        aggfunc='sum').cumsum(axis=1).round(2)\n",
    "ltv_cohort_piv"
   ]
  },
  {
   "cell_type": "code",
   "execution_count": null,
   "metadata": {
    "scrolled": true
   },
   "outputs": [],
   "source": [
    "# Plotting the pivot table (LTV)\n",
    "fig, ax = plt.subplots(figsize=(10,10)) \n",
    "ltv_cohort_piv.index=ltv_cohort_piv.index.astype(str)\n",
    "sns.heatmap(ltv_cohort_piv, annot=True, fmt='.2f', linewidths=1, linecolor='grey', cbar_kws= {'orientation': 'horizontal'} \n",
    "            ).set(title ='LTV')\n",
    "plt.show()"
   ]
  },
  {
   "cell_type": "markdown",
   "metadata": {},
   "source": [
    "In conclusion, the cohort analysis reveals a promising trend towards achieving a good lifetime value (LTV) for the business.  \n",
    "After 3 month the cohort of December 17 is the most profitable cohort, but after 6 month the cohort of September 17 is the most profitable.  \n",
    "The cohort of December 17 will probably be more profitable than Septembers 17 cohort after 6 month."
   ]
  },
  {
   "cell_type": "markdown",
   "metadata": {},
   "source": [
    "**3. marketing**"
   ]
  },
  {
   "cell_type": "markdown",
   "metadata": {},
   "source": [
    "**How much money was spent? Overall/per source/over time**"
   ]
  },
  {
   "cell_type": "code",
   "execution_count": null,
   "metadata": {},
   "outputs": [],
   "source": [
    "expenses"
   ]
  },
  {
   "cell_type": "code",
   "execution_count": null,
   "metadata": {},
   "outputs": [],
   "source": [
    "# Overall marketing costs\n",
    "print(f'Overall marketing costs is {expenses.costs.sum():.2f}')"
   ]
  },
  {
   "cell_type": "code",
   "execution_count": null,
   "metadata": {},
   "outputs": [],
   "source": [
    "# Marketing costs per source\n",
    "ex_by_source = expenses.groupby('source_id')['costs'].sum().reset_index()\n",
    "ex_by_source"
   ]
  },
  {
   "cell_type": "code",
   "execution_count": null,
   "metadata": {},
   "outputs": [],
   "source": [
    "# Creating month column from dt\n",
    "expenses['month'] = expenses['dt'].astype('datetime64[M]')\n",
    "expenses"
   ]
  },
  {
   "cell_type": "code",
   "execution_count": null,
   "metadata": {},
   "outputs": [],
   "source": [
    "# Marketing costs per month\n",
    "total_monthly = expenses.groupby('month')['costs'].sum().reset_index()\n",
    "total_monthly"
   ]
  },
  {
   "cell_type": "code",
   "execution_count": null,
   "metadata": {},
   "outputs": [],
   "source": [
    "# Marketing costs per source and month\n",
    "expenses_by_month_source = expenses.groupby(['source_id','month'])['costs'].sum().reset_index()\n",
    "expenses_by_month_source"
   ]
  },
  {
   "cell_type": "code",
   "execution_count": null,
   "metadata": {},
   "outputs": [],
   "source": [
    "# Marketing costs per source and month as pivot table\n",
    "marketing_pivot = expenses.pivot_table(index='month',\n",
    "                     columns='source_id',\n",
    "                     values='costs',\n",
    "                     aggfunc='sum')\n",
    "marketing_pivot"
   ]
  },
  {
   "cell_type": "code",
   "execution_count": null,
   "metadata": {},
   "outputs": [],
   "source": [
    "# Plotting the pivot table\n",
    "fig, ax = plt.subplots(figsize=(10,10)) \n",
    "marketing_pivot.index=marketing_pivot.index.astype(str)\n",
    "sns.heatmap(marketing_pivot, annot=True, fmt='.0f', linewidths=1, linecolor='grey', cbar_kws= {'orientation': 'horizontal'} \n",
    "            ).set(title ='Marketing costs')\n",
    "plt.show()"
   ]
  },
  {
   "cell_type": "code",
   "execution_count": null,
   "metadata": {},
   "outputs": [],
   "source": [
    "# Calculating total expenses per day\n",
    "total_daily = expenses.groupby('dt')['costs'].sum().reset_index()\n",
    "total_daily"
   ]
  },
  {
   "cell_type": "code",
   "execution_count": null,
   "metadata": {},
   "outputs": [],
   "source": [
    "# Plotting total expenses over time\n",
    "fig = px.line(total_daily, x=\"dt\", y=\"costs\", title='Total Expenses Over Time- Daily', labels={'costs':'Cost','dt':'Date'})\n",
    "fig.show()"
   ]
  },
  {
   "cell_type": "code",
   "execution_count": null,
   "metadata": {
    "scrolled": true
   },
   "outputs": [],
   "source": [
    "# Plotting total expenses over time\n",
    "fig = px.line(total_monthly, x=\"month\", y=\"costs\", title='Total Expenses Over Time- Monthly', labels={'costs':'Cost'})\n",
    "fig.show()"
   ]
  },
  {
   "cell_type": "code",
   "execution_count": null,
   "metadata": {},
   "outputs": [],
   "source": [
    "# Plotting total expenses over time by source\n",
    "fig = px.line(expenses, x=\"dt\", y=\"costs\", color='source_id')\n",
    "fig.show()"
   ]
  },
  {
   "cell_type": "code",
   "execution_count": null,
   "metadata": {},
   "outputs": [],
   "source": [
    "# Plotting total expenses by month and source\n",
    "fig = px.line(expenses_by_month_source, x='month', y=\"costs\", color='source_id', title='Total Expenses Over Time- Monthly')\n",
    "fig.show()"
   ]
  },
  {
   "cell_type": "markdown",
   "metadata": {},
   "source": [
    "August exhibits the lowest marketing expenses compared to other months, with costs gradually rising until December, after which there's a noticeable decline in marketing expenses until May.  \n",
    "Expenses are particularly high by the end of the year (Nov'-Dec'), suggesting an expensive marketing event. \n",
    "  \n",
    "It's evident that Source 3 incurs the highest marketing expenses among all sources, with its costs significantly surpassing those of the others, while the least costly sources are 9 and 10.  \n",
    "However, despite these differences, all sources generally follow the same trend over time."
   ]
  },
  {
   "cell_type": "markdown",
   "metadata": {},
   "source": [
    "When comparing the DAU plot to the 'total expenses over time- daily' plot, and the MAU to the 'total expenses over time- monthly' plot it is evident that the correlate almost perfectly, suggesting that marketing expensees are immidiatly translated to active users.  \n",
    "There is no visible correlation between marketing expenses and revenue."
   ]
  },
  {
   "cell_type": "markdown",
   "metadata": {},
   "source": [
    "**How much did customer acquisition from each of the sources cost?**"
   ]
  },
  {
   "cell_type": "markdown",
   "metadata": {},
   "source": [
    "**CAC by source**"
   ]
  },
  {
   "cell_type": "code",
   "execution_count": null,
   "metadata": {
    "scrolled": true
   },
   "outputs": [],
   "source": [
    "# Finding first source for each user (from visits table)\n",
    "first_source = visits.sort_values('date').groupby('uid').first()['source_id'].reset_index()\n",
    "first_source.columns=['uid','first_source']\n",
    "first_source.head()"
   ]
  },
  {
   "cell_type": "code",
   "execution_count": null,
   "metadata": {},
   "outputs": [],
   "source": [
    "# Adding first_source column to orders table\n",
    "orders = orders.merge(first_source, on='uid')\n",
    "orders.head()"
   ]
  },
  {
   "cell_type": "code",
   "execution_count": null,
   "metadata": {},
   "outputs": [],
   "source": [
    "# Calculating number of users from each source\n",
    "orders_by_source = orders.groupby('first_source')['uid'].nunique().reset_index().rename(columns={'first_source':'source_id', 'uid':'users'})\n",
    "orders_by_source\n",
    "# there are no buyers from source 6, and 8"
   ]
  },
  {
   "cell_type": "code",
   "execution_count": null,
   "metadata": {},
   "outputs": [],
   "source": [
    "ex_by_source\n",
    "# there are no marketing expenses for sources 6-8"
   ]
  },
  {
   "cell_type": "code",
   "execution_count": null,
   "metadata": {},
   "outputs": [],
   "source": [
    "# Merging users and costs date per source\n",
    "orders_by_source = orders_by_source.merge(ex_by_source, on='source_id', how='outer')\n",
    "orders_by_source"
   ]
  },
  {
   "cell_type": "code",
   "execution_count": null,
   "metadata": {},
   "outputs": [],
   "source": [
    "# Calculating CAC per source\n",
    "orders_by_source['CAC'] = orders_by_source['costs'] / orders_by_source['users']\n",
    "orders_by_source"
   ]
  },
  {
   "cell_type": "code",
   "execution_count": null,
   "metadata": {},
   "outputs": [],
   "source": [
    "orders_by_source = orders_by_source.dropna()\n",
    "orders_by_source"
   ]
  },
  {
   "cell_type": "code",
   "execution_count": null,
   "metadata": {},
   "outputs": [],
   "source": [
    "# Converting source _id into str for visualization\n",
    "orders_by_source['source_id'] = orders_by_source['source_id'].astype(str)\n",
    "orders_by_source.info()"
   ]
  },
  {
   "cell_type": "code",
   "execution_count": null,
   "metadata": {},
   "outputs": [],
   "source": [
    "# Plotting CAC per source\n",
    "fig = px.bar(orders_by_source, x=\"source_id\", y=\"CAC\", title='CAC by Source')\n",
    "fig.add_hline(y=orders_by_source['CAC'].mean(),line_dash=\"dash\", line_color=\"purple\", annotation_text=\"average CAC\",\n",
    "             annotation_position=\"top left\")\n",
    "fig.show()"
   ]
  },
  {
   "cell_type": "code",
   "execution_count": null,
   "metadata": {},
   "outputs": [],
   "source": [
    "orders_by_source.CAC.describe()"
   ]
  },
  {
   "cell_type": "markdown",
   "metadata": {},
   "source": [
    "The mean and median for CAC by source are 7.9, and 6.2 respectively.  \n",
    "The highest CAC value is almost 14 and belong to source 3.  \n",
    "The lowest CAC value is 4.5 and belong to source 10.  \n",
    "There ware no marketing expenses for sources 6-8."
   ]
  },
  {
   "cell_type": "markdown",
   "metadata": {},
   "source": [
    "**CAC by month**"
   ]
  },
  {
   "cell_type": "code",
   "execution_count": null,
   "metadata": {},
   "outputs": [],
   "source": [
    "# Creating table from orders (cohort_size) and expenses\n",
    "total_monthly = total_monthly.merge(cohort_sizes, left_on='month', right_on='first_order_month')\n",
    "total_monthly"
   ]
  },
  {
   "cell_type": "code",
   "execution_count": null,
   "metadata": {},
   "outputs": [],
   "source": [
    "# Calculating CAC by month\n",
    "total_monthly['CAC'] = total_monthly['costs'] / total_monthly['cohort_size']\n",
    "total_monthly"
   ]
  },
  {
   "cell_type": "code",
   "execution_count": null,
   "metadata": {
    "scrolled": true
   },
   "outputs": [],
   "source": [
    "# Plotting CAC by month\n",
    "fig = px.line(total_monthly, x=\"month\", y=\"CAC\", title='CAC')\n",
    "fig.add_hline(y=total_monthly['CAC'].mean(),line_dash=\"dash\", line_color=\"purple\", annotation_text=\"average CAC\",\n",
    "             annotation_position=\"top left\")\n",
    "fig.show()"
   ]
  },
  {
   "cell_type": "code",
   "execution_count": null,
   "metadata": {},
   "outputs": [],
   "source": [
    "total_monthly['CAC'].describe()"
   ]
  },
  {
   "cell_type": "markdown",
   "metadata": {},
   "source": [
    "The avg CAC is around 9.  \n",
    "The highest cac value was on Aug 17, and the lowest was on May 18."
   ]
  },
  {
   "cell_type": "code",
   "execution_count": null,
   "metadata": {},
   "outputs": [],
   "source": [
    "# Marketing expenses by source and month\n",
    "expenses_by_month_source"
   ]
  },
  {
   "cell_type": "code",
   "execution_count": null,
   "metadata": {},
   "outputs": [],
   "source": [
    "# Orders revenue by source and month\n",
    "orders_by_month_source = orders.groupby(['first_source','first_order_month'])['uid'].nunique().reset_index()\n",
    "orders_by_month_source.columns=['source_id','month','buyers']\n",
    "orders_by_month_source"
   ]
  },
  {
   "cell_type": "code",
   "execution_count": null,
   "metadata": {},
   "outputs": [],
   "source": [
    "# Merging both tables\n",
    "CAC_per_month_source = expenses_by_month_source.merge(orders_by_month_source, how='left', on=['month','source_id'])\n",
    "CAC_per_month_source"
   ]
  },
  {
   "cell_type": "code",
   "execution_count": null,
   "metadata": {},
   "outputs": [],
   "source": [
    "# Calculating CAC by source and month\n",
    "CAC_per_month_source['CAC'] = CAC_per_month_source['costs'] / CAC_per_month_source['buyers']\n",
    "CAC_per_month_source"
   ]
  },
  {
   "cell_type": "code",
   "execution_count": null,
   "metadata": {},
   "outputs": [],
   "source": [
    "# Plotting CAC over time by source\n",
    "fig = px.line(CAC_per_month_source, x=\"month\", y=\"CAC\",color='source_id',title='CAC', labels={'source_id':'Source','month':'Month'})\n",
    "fig.show()"
   ]
  },
  {
   "cell_type": "markdown",
   "metadata": {},
   "source": [
    "Customer Acquisition Cost (CAC) varies across different sources and months, providing insights into our marketing performance.\n",
    "\n",
    "When examining CAC by source, we observe that the mean and median values stand at 7.9 and 6.2, respectively. Notably, Source 3 demonstrates the highest CAC, nearly reaching 14, while Source 10 boasts the lowest, at 4.5. Interestingly, Sources 6 through 8 incurred no marketing expenses during this period.\n",
    "\n",
    "Shifting focus to CAC by month, we find that the average CAC hovers around 9. August 2017 marked the peak CAC, contrasting with the lowest recorded in May 2018.\n",
    "\n",
    "Examining CAC by both month and source reveals that Sources 2 and 3 consistently exhibit substantially higher CAC values compared to other sources across multiple months."
   ]
  },
  {
   "cell_type": "markdown",
   "metadata": {},
   "source": [
    "**How worthwhile were the investments? (ROI)**"
   ]
  },
  {
   "cell_type": "markdown",
   "metadata": {},
   "source": [
    "**ROI by cohort**"
   ]
  },
  {
   "cell_type": "code",
   "execution_count": null,
   "metadata": {},
   "outputs": [],
   "source": [
    "# Extracting needed column from total_monthly\n",
    "monthly_CAC_ROI = total_monthly[['first_order_month', 'CAC']]\n",
    "monthly_CAC_ROI"
   ]
  },
  {
   "cell_type": "code",
   "execution_count": null,
   "metadata": {
    "scrolled": true
   },
   "outputs": [],
   "source": [
    "# Merging tables to calculate ROI\n",
    "ROI = ltv_cohort.merge(monthly_CAC_ROI,on=['first_order_month'],how='left')\n",
    "ROI"
   ]
  },
  {
   "cell_type": "code",
   "execution_count": null,
   "metadata": {},
   "outputs": [],
   "source": [
    "# Calculating ROI\n",
    "ROI['ROI'] = ROI['ltv'] / ROI['CAC']\n",
    "ROI"
   ]
  },
  {
   "cell_type": "code",
   "execution_count": null,
   "metadata": {},
   "outputs": [],
   "source": [
    "# Creating ROI pivot table\n",
    "roi_piv = ROI.pivot_table(index='first_order_month', \n",
    "                          columns='age', \n",
    "                          values='ROI', \n",
    "                          aggfunc='mean').cumsum(axis=1).round(2) \n",
    "roi_piv"
   ]
  },
  {
   "cell_type": "code",
   "execution_count": null,
   "metadata": {},
   "outputs": [],
   "source": [
    "# Creating ROI heat map\n",
    "fig, ax = plt.subplots(figsize=(10,10)) \n",
    "roi_piv.index=roi_piv.index.astype(str)\n",
    "sns.heatmap(roi_piv, annot=True, fmt='.2f', linewidths=1, linecolor='grey', cbar_kws= {'orientation': 'horizontal'} \n",
    "            ).set(title ='ROI per cohort')\n",
    "plt.show()"
   ]
  },
  {
   "cell_type": "code",
   "execution_count": null,
   "metadata": {},
   "outputs": [],
   "source": [
    "roi_piv.describe().round(2)"
   ]
  },
  {
   "cell_type": "markdown",
   "metadata": {},
   "source": [
    "The cohort of Sep' 17 is the best cohort in terms of ROI- rose above 100% after 3 months.  \n",
    "In second place we have the cohort of June 17.  \n",
    "In average ROI got to 100% after 8 month."
   ]
  },
  {
   "cell_type": "markdown",
   "metadata": {},
   "source": [
    "**ROI by source**"
   ]
  },
  {
   "cell_type": "code",
   "execution_count": null,
   "metadata": {
    "scrolled": true
   },
   "outputs": [],
   "source": [
    "# Calculating number of buyers and sum of revenue per source\n",
    "ltv_per_source = orders.groupby(['first_source'])[['uid','revenue']].agg({'uid':'nunique','revenue':'sum'}).reset_index()\n",
    "ltv_per_source.columns = ['source','buyers','revenue']\n",
    "ltv_per_source"
   ]
  },
  {
   "cell_type": "code",
   "execution_count": null,
   "metadata": {
    "scrolled": true
   },
   "outputs": [],
   "source": [
    "# Calculating LTV per source\n",
    "ltv_per_source['ltv'] = ltv_per_source['revenue']/ltv_per_source['buyers']\n",
    "ltv_per_source"
   ]
  },
  {
   "cell_type": "code",
   "execution_count": null,
   "metadata": {
    "scrolled": true
   },
   "outputs": [],
   "source": [
    "# Calculating marketing expenses per source\n",
    "marketing_per_source = expenses.groupby(['source_id'])['costs'].sum().reset_index().rename(columns={'source_id':'source'})\n",
    "marketing_per_source"
   ]
  },
  {
   "cell_type": "code",
   "execution_count": null,
   "metadata": {
    "scrolled": true
   },
   "outputs": [],
   "source": [
    "# merging tables for calculations\n",
    "roi_per_source = marketing_per_source.merge(ltv_per_source, on='source')\n",
    "roi_per_source"
   ]
  },
  {
   "cell_type": "code",
   "execution_count": null,
   "metadata": {
    "scrolled": true
   },
   "outputs": [],
   "source": [
    "# Calculating CAC and ROI per source\n",
    "roi_per_source['CAC'] = roi_per_source['costs'] / roi_per_source['buyers']\n",
    "roi_per_source['roi'] = roi_per_source['ltv'] / roi_per_source['CAC']\n",
    "roi_per_source"
   ]
  },
  {
   "cell_type": "code",
   "execution_count": null,
   "metadata": {},
   "outputs": [],
   "source": [
    "# Plotting CAC and ROI per source\n",
    "fig = px.bar(roi_per_source, x='source', y='roi', labels={'source':'Source','roi':'ROI'}, title= 'ROI per Source')\n",
    "fig.update_xaxes(type='category')\n",
    "fig.show()"
   ]
  },
  {
   "cell_type": "markdown",
   "metadata": {},
   "source": [
    "When scrutinizing the Return on Investment (ROI) per source, it becomes apparent that only a select few sources yield returns that cover the marketing expenses incurred. Specifically, sources 1, 2, 5, and 9 demonstrate ROI significant enough to recoup their corresponding marketing investments.  \n",
    "  \n",
    "In contrast, sources 3, 4, and 10 fail to generate returns that match or exceed the initial marketing expenditures. Despite the resources allocated to these sources, they do not yield sufficient returns to justify the investment made in marketing efforts."
   ]
  },
  {
   "cell_type": "markdown",
   "metadata": {},
   "source": [
    "**Final Conclusions:**  \n",
    "In this project, I conducted an analysis on Yandex.Afisha data encompassing customer visits, orders, and marketing expenses. The insights drawn from this analysis shed light on various aspects of user behavior, purchasing patterns, and marketing performance, ultimately informing key business decisions.\n",
    "\n",
    "**User Engagement and Retention:**\n",
    "The analysis revealed essential metrics regarding user engagement and retention. We found that the average daily active users reached 908, with weekly and monthly metrics standing at 5724 and 23,228, respectively. Additionally, the average daily sessions per user were 1.1, with a notable difference in session duration between desktop and touch devices. However, the most critical observation was the gradual decline in retention rates over time, with some cohorts experiencing rates dropping below 1% within a few months. This highlights the challenge of sustaining engagement and loyalty among users and underscores the need for targeted retention strategies.\n",
    "\n",
    "**Conversion, Purchases, and Lifetime Value:**\n",
    "Examining conversion rates and purchasing behavior revealed valuable insights into user acquisition and retention. While the overall conversion rate stood at 16%, it was observed that the first two cohorts took longer to convert, with over 68% of users making their first purchase on the same day they first used the product. However, the buying rate drastically dropped after the first month, with minimal changes in subsequent months. Despite this, there was a promising trend towards achieving a good lifetime value (LTV) for the business, with cohorts showing growth in purchase size over time.\n",
    "\n",
    "**Marketing Expenses, CAC, and ROI:**\n",
    "Analyzing marketing expenses, customer acquisition costs (CAC), and return on investment (ROI) provided critical insights into the effectiveness of marketing strategies. It was evident that marketing expenses varied across different sources and months, with Source 3 incurring the highest expenses. Despite this, all sources generally followed the same trend over time. Furthermore, while sources 1, 2, 5, and 9 demonstrated significant ROI, sources 3, 4, and 10 failed to generate sufficient returns to justify the marketing investments made.\n",
    "\n",
    "**Business Conclusions:**\n",
    "Overall, the analysis highlights the importance of targeted retention strategies to combat declining retention rates and sustain user engagement and loyalty over time. Additionally, optimizing marketing strategies to focus on sources with higher ROI can maximize returns and improve overall profitability. By leveraging these insights, businesses can make informed decisions to drive growth and success in the competitive marketplace."
   ]
  }
 ],
 "metadata": {
  "kernelspec": {
   "display_name": "Python 3 (ipykernel)",
   "language": "python",
   "name": "python3"
  },
  "language_info": {
   "codemirror_mode": {
    "name": "ipython",
    "version": 3
   },
   "file_extension": ".py",
   "mimetype": "text/x-python",
   "name": "python",
   "nbconvert_exporter": "python",
   "pygments_lexer": "ipython3",
   "version": "3.9.23"
  },
  "toc": {
   "base_numbering": 1,
   "nav_menu": {},
   "number_sections": true,
   "sideBar": true,
   "skip_h1_title": true,
   "title_cell": "Table of Contents",
   "title_sidebar": "Contents",
   "toc_cell": false,
   "toc_position": {},
   "toc_section_display": true,
   "toc_window_display": false
  }
 },
 "nbformat": 4,
 "nbformat_minor": 4
}
